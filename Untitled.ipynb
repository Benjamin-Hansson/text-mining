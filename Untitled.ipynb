{
 "cells": [
  {
   "cell_type": "code",
   "execution_count": 3,
   "metadata": {},
   "outputs": [],
   "source": [
    "from pymongo import MongoClient\n",
    "client = MongoClient('localhost', 27017)\n",
    "db = client[\"text_mining\"]\n",
    "mongo_comments = db[\"comments\"]\n",
    "\n"
   ]
  },
  {
   "cell_type": "code",
   "execution_count": 26,
   "metadata": {},
   "outputs": [],
   "source": [
    "\n",
    "    "
   ]
  },
  {
   "cell_type": "code",
   "execution_count": 29,
   "metadata": {},
   "outputs": [
    {
     "name": "stderr",
     "output_type": "stream",
     "text": [
      "[nltk_data] Downloading package vader_lexicon to\n",
      "[nltk_data]     /home/benjamin/nltk_data...\n",
      "[nltk_data]   Package vader_lexicon is already up-to-date!\n"
     ]
    }
   ],
   "source": [
    "import nltk\n",
    "nltk.download('vader_lexicon')\n",
    "from nltk.sentiment.vader import SentimentIntensityAnalyzer\n",
    "sid = SentimentIntensityAnalyzer()\n",
    "\n",
    "\n",
    "post_ids = mongo_comments.distinct('post_id')\n",
    "\n",
    "scores = []\n",
    "for post_id in post_ids:\n",
    "    text = \"\"\n",
    "    comments = mongo_comments.find({\"post_id\": post_id})\n",
    "    for comment in comments:\n",
    "        text += comment[\"body\"] +\" \"\n",
    "    \n",
    "    scores.append(sid.polarity_scores(text))\n",
    "\n",
    "\n",
    "    \n",
    "    "
   ]
  },
  {
   "cell_type": "code",
   "execution_count": 30,
   "metadata": {},
   "outputs": [
    {
     "name": "stdout",
     "output_type": "stream",
     "text": [
      "{'neg': 0.129, 'neu': 0.736, 'pos': 0.134, 'compound': 0.9958}\n",
      "{'neg': 0.12, 'neu': 0.739, 'pos': 0.141, 'compound': 0.9999}\n",
      "{'neg': 0.13, 'neu': 0.736, 'pos': 0.134, 'compound': 0.9949}\n",
      "{'neg': 0.11, 'neu': 0.749, 'pos': 0.141, 'compound': 1.0}\n",
      "{'neg': 0.107, 'neu': 0.759, 'pos': 0.134, 'compound': 1.0}\n",
      "{'neg': 0.107, 'neu': 0.751, 'pos': 0.142, 'compound': 1.0}\n",
      "{'neg': 0.116, 'neu': 0.741, 'pos': 0.143, 'compound': 1.0}\n",
      "{'neg': 0.068, 'neu': 0.84, 'pos': 0.092, 'compound': 0.9999}\n",
      "{'neg': 0.112, 'neu': 0.734, 'pos': 0.154, 'compound': 1.0}\n",
      "{'neg': 0.126, 'neu': 0.737, 'pos': 0.137, 'compound': 0.9998}\n"
     ]
    }
   ],
   "source": [
    "for i in range(10):\n",
    "    print(scores[i])"
   ]
  },
  {
   "cell_type": "code",
   "execution_count": null,
   "metadata": {},
   "outputs": [],
   "source": []
  }
 ],
 "metadata": {
  "kernelspec": {
   "display_name": "Python 3",
   "language": "python",
   "name": "python3"
  },
  "language_info": {
   "codemirror_mode": {
    "name": "ipython",
    "version": 3
   },
   "file_extension": ".py",
   "mimetype": "text/x-python",
   "name": "python",
   "nbconvert_exporter": "python",
   "pygments_lexer": "ipython3",
   "version": "3.8.5"
  }
 },
 "nbformat": 4,
 "nbformat_minor": 4
}
